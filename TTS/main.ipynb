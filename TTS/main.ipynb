{
 "cells": [
  {
   "cell_type": "raw",
   "id": "38e79785-db84-4145-bb2e-cf2218f40b62",
   "metadata": {
    "vscode": {
     "languageId": "raw"
    }
   },
   "source": [
    "!pip install pygame\n",
    "!pip install edge-tts\n",
    "!pip install pydub"
   ]
  },
  {
   "cell_type": "code",
   "execution_count": null,
   "id": "22979a3f",
   "metadata": {},
   "outputs": [],
   "source": [
    "import os\n",
    "import pygame\n",
    "import edge_tts"
   ]
  },
  {
   "cell_type": "code",
   "execution_count": null,
   "id": "055589bc",
   "metadata": {},
   "outputs": [],
   "source": [
    "# Get the current working directory\n",
    "current_dir = os.getcwd()\n",
    "\n",
    "OUTPUT_FILE = \"audio.mp3\"\n",
    "VOICE = \"en-US-EmmaMultilingualNeural\""
   ]
  },
  {
   "cell_type": "code",
   "execution_count": null,
   "id": "392ea142",
   "metadata": {},
   "outputs": [],
   "source": [
    "# Function to play audio using pygame\n",
    "def play_audio(audio_path):\n",
    "    pygame.mixer.init()\n",
    "    pygame.mixer.music.load(audio_path)\n",
    "    pygame.mixer.music.play()\n",
    "    while pygame.mixer.music.get_busy():\n",
    "        pygame.time.Clock().tick(10)\n",
    "    pygame.mixer.quit()  \n"
   ]
  },
  {
   "cell_type": "code",
   "execution_count": null,
   "id": "055a403a",
   "metadata": {},
   "outputs": [],
   "source": [
    "def refresh_voices_sync():\n",
    "    voices = edge_tts.list_voices_sync()  # Hypothetical synchronous call\n",
    "\n",
    "    # Define the locales for Croatian, Bosnian, British, and USA voices\n",
    "    target_locales = [\"hr-HR\", \"bs-BA\", \"en-GB\", \"en-US\"]\n",
    "\n",
    "    # Filter voices based on the target locales\n",
    "    filtered_voices = [voice for voice in voices if voice[\"Locale\"] in target_locales]\n",
    "\n",
    "    # Exporting filtered voices to a file\n",
    "    with open(\"voices.txt\", \"w\") as file:\n",
    "        for voice in filtered_voices:\n",
    "            file.write(f\"{voice}\\n\")"
   ]
  },
  {
   "cell_type": "code",
   "execution_count": null,
   "id": "3c27553e",
   "metadata": {},
   "outputs": [],
   "source": [
    "# Refresh voices (if needed)\n",
    "# refresh_voices_sync()\n",
    "\n",
    "# Wait for user input\n",
    "text_to_speak = input(\"Please enter the text you want to convert to speech: \")\n",
    "\n",
    "# Assuming a synchronous method to save the speech to a file\n",
    "communicate = edge_tts.Communicate(text_to_speak, VOICE)\n",
    "communicate.save_sync(OUTPUT_FILE)  # Hypothetical synchronous save method\n",
    "\n",
    "print(\"Playing audio...\", OUTPUT_FILE)\n",
    "\n",
    "# Play the generated audio\n",
    "play_audio(OUTPUT_FILE)"
   ]
  },
  {
   "cell_type": "code",
   "execution_count": null,
   "id": "1b92844c",
   "metadata": {},
   "outputs": [],
   "source": [
    "# Check if the output file exists and delete it if it does\n",
    "if os.path.exists(OUTPUT_FILE):\n",
    "    os.remove(OUTPUT_FILE)"
   ]
  }
 ],
 "metadata": {
  "kernelspec": {
   "display_name": "Python 3 (ipykernel)",
   "language": "python",
   "name": "python3"
  },
  "language_info": {
   "codemirror_mode": {
    "name": "ipython",
    "version": 3
   },
   "file_extension": ".py",
   "mimetype": "text/x-python",
   "name": "python",
   "nbconvert_exporter": "python",
   "pygments_lexer": "ipython3",
   "version": "3.10.11"
  }
 },
 "nbformat": 4,
 "nbformat_minor": 5
}
