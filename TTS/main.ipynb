{
 "cells": [
  {
   "cell_type": "raw",
   "id": "38e79785-db84-4145-bb2e-cf2218f40b62",
   "metadata": {
    "vscode": {
     "languageId": "raw"
    }
   },
   "source": [
    "!pip install pygame\n",
    "!pip install edge-tts\n",
    "!pip install pydub"
   ]
  },
  {
   "cell_type": "code",
   "execution_count": 3,
   "id": "22979a3f",
   "metadata": {},
   "outputs": [
    {
     "name": "stdout",
     "output_type": "stream",
     "text": [
      "pygame 2.5.2 (SDL 2.28.3, Python 3.10.11)\n",
      "Hello from the pygame community. https://www.pygame.org/contribute.html\n"
     ]
    }
   ],
   "source": [
    "import os\n",
    "import pygame\n",
    "import asyncio\n",
    "import edge_tts"
   ]
  },
  {
   "cell_type": "code",
   "execution_count": 4,
   "id": "392ea142",
   "metadata": {},
   "outputs": [],
   "source": [
    "# Function to play audio using pygame\n",
    "def play_audio(audio_path):\n",
    "    pygame.mixer.init()\n",
    "    pygame.mixer.music.load(audio_path)\n",
    "    pygame.mixer.music.play()\n",
    "    while pygame.mixer.music.get_busy():\n",
    "        pygame.time.Clock().tick(10)\n"
   ]
  },
  {
   "cell_type": "code",
   "execution_count": 5,
   "id": "6d8ef142",
   "metadata": {},
   "outputs": [],
   "source": [
    "OUTPUT_FILE = \"audio.mp3\"\n",
    "VOICE = \"en-US-EmmaMultilingualNeural\""
   ]
  },
  {
   "cell_type": "code",
   "execution_count": 6,
   "id": "055a403a",
   "metadata": {},
   "outputs": [],
   "source": [
    "async def refresh_voices() -> None:\n",
    "    voices = await edge_tts.list_voices()\n",
    "\n",
    "    # Define the locales for Croatian, Bosnian, British, and USA voices\n",
    "    target_locales = [\"hr-HR\", \"bs-BA\", \"en-GB\", \"en-US\"]\n",
    "\n",
    "    # Filter voices based on the target locales\n",
    "    filtered_voices = [voice for voice in voices if voice[\"Locale\"] in target_locales]\n",
    "\n",
    "    # Exporting filtered voices to a file\n",
    "    with open(\"voices.txt\", \"w\") as file:\n",
    "        for voice in filtered_voices:\n",
    "            file.write(f\"{voice}\\n\")"
   ]
  },
  {
   "cell_type": "code",
   "execution_count": 7,
   "id": "3c27553e",
   "metadata": {},
   "outputs": [],
   "source": [
    "async def main() -> None:\n",
    "    # Refresh voices\n",
    "    # await refresh_voices()\n",
    "\n",
    "    # Wait for user input\n",
    "    text_to_speak = input(\"Please enter the text you want to convert to speech: \")\n",
    "\n",
    "    # Set the custom temporary directory path\n",
    "    export_directory = os.path.join(os.path.dirname(__file__), \"export\")\n",
    "    if not os.path.exists(export_directory):\n",
    "        os.makedirs(export_directory)\n",
    "\n",
    "    # File path for the generated audio\n",
    "    file_path = os.path.join(export_directory, OUTPUT_FILE)\n",
    "\n",
    "    print(\"Saving text...\", text_to_speak)\n",
    "\n",
    "    \"\"\"Main function\"\"\"\n",
    "    communicate = edge_tts.Communicate(text_to_speak, VOICE)\n",
    "    await communicate.save(file_path)\n",
    "\n",
    "    print(\"Playing audio...\", file_path)\n",
    "\n",
    "    # Play the generated audio\n",
    "    play_audio(file_path)"
   ]
  },
  {
   "cell_type": "code",
   "execution_count": 8,
   "id": "c542203d",
   "metadata": {},
   "outputs": [
    {
     "ename": "RuntimeError",
     "evalue": "asyncio.run() cannot be called from a running event loop",
     "output_type": "error",
     "traceback": [
      "\u001b[1;31m---------------------------------------------------------------------------\u001b[0m",
      "\u001b[1;31mRuntimeError\u001b[0m                              Traceback (most recent call last)",
      "Cell \u001b[1;32mIn[8], line 1\u001b[0m\n\u001b[1;32m----> 1\u001b[0m \u001b[43masyncio\u001b[49m\u001b[38;5;241;43m.\u001b[39;49m\u001b[43mrun\u001b[49m\u001b[43m(\u001b[49m\u001b[43mmain\u001b[49m\u001b[43m(\u001b[49m\u001b[43m)\u001b[49m\u001b[43m)\u001b[49m\n",
      "File \u001b[1;32mC:\\Python\\Python310\\lib\\asyncio\\runners.py:33\u001b[0m, in \u001b[0;36mrun\u001b[1;34m(main, debug)\u001b[0m\n\u001b[0;32m      9\u001b[0m \u001b[38;5;250m\u001b[39m\u001b[38;5;124;03m\"\"\"Execute the coroutine and return the result.\u001b[39;00m\n\u001b[0;32m     10\u001b[0m \n\u001b[0;32m     11\u001b[0m \u001b[38;5;124;03mThis function runs the passed coroutine, taking care of\u001b[39;00m\n\u001b[1;32m   (...)\u001b[0m\n\u001b[0;32m     30\u001b[0m \u001b[38;5;124;03m    asyncio.run(main())\u001b[39;00m\n\u001b[0;32m     31\u001b[0m \u001b[38;5;124;03m\"\"\"\u001b[39;00m\n\u001b[0;32m     32\u001b[0m \u001b[38;5;28;01mif\u001b[39;00m events\u001b[38;5;241m.\u001b[39m_get_running_loop() \u001b[38;5;129;01mis\u001b[39;00m \u001b[38;5;129;01mnot\u001b[39;00m \u001b[38;5;28;01mNone\u001b[39;00m:\n\u001b[1;32m---> 33\u001b[0m     \u001b[38;5;28;01mraise\u001b[39;00m \u001b[38;5;167;01mRuntimeError\u001b[39;00m(\n\u001b[0;32m     34\u001b[0m         \u001b[38;5;124m\"\u001b[39m\u001b[38;5;124masyncio.run() cannot be called from a running event loop\u001b[39m\u001b[38;5;124m\"\u001b[39m)\n\u001b[0;32m     36\u001b[0m \u001b[38;5;28;01mif\u001b[39;00m \u001b[38;5;129;01mnot\u001b[39;00m coroutines\u001b[38;5;241m.\u001b[39miscoroutine(main):\n\u001b[0;32m     37\u001b[0m     \u001b[38;5;28;01mraise\u001b[39;00m \u001b[38;5;167;01mValueError\u001b[39;00m(\u001b[38;5;124m\"\u001b[39m\u001b[38;5;124ma coroutine was expected, got \u001b[39m\u001b[38;5;132;01m{!r}\u001b[39;00m\u001b[38;5;124m\"\u001b[39m\u001b[38;5;241m.\u001b[39mformat(main))\n",
      "\u001b[1;31mRuntimeError\u001b[0m: asyncio.run() cannot be called from a running event loop"
     ]
    }
   ],
   "source": [
    "asyncio.run(main())"
   ]
  }
 ],
 "metadata": {
  "kernelspec": {
   "display_name": "Python 3 (ipykernel)",
   "language": "python",
   "name": "python3"
  },
  "language_info": {
   "codemirror_mode": {
    "name": "ipython",
    "version": 3
   },
   "file_extension": ".py",
   "mimetype": "text/x-python",
   "name": "python",
   "nbconvert_exporter": "python",
   "pygments_lexer": "ipython3",
   "version": "3.10.11"
  }
 },
 "nbformat": 4,
 "nbformat_minor": 5
}
