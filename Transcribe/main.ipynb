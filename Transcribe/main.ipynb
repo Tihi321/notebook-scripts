{
 "cells": [
  {
   "cell_type": "code",
   "execution_count": 1,
   "id": "6b028559-d6e8-439b-9f25-46d222eeba01",
   "metadata": {},
   "outputs": [
    {
     "name": "stdout",
     "output_type": "stream",
     "text": [
      "Requirement already satisfied: pyaudio in c:\\projects\\personal\\notebook-scripts\\venv\\lib\\site-packages (0.2.14)\n"
     ]
    },
    {
     "name": "stderr",
     "output_type": "stream",
     "text": [
      "\n",
      "[notice] A new release of pip is available: 23.0.1 -> 24.0\n",
      "[notice] To update, run: python.exe -m pip install --upgrade pip\n"
     ]
    },
    {
     "name": "stdout",
     "output_type": "stream",
     "text": [
      "Requirement already satisfied: wave in c:\\projects\\personal\\notebook-scripts\\venv\\lib\\site-packages (0.0.2)\n"
     ]
    },
    {
     "name": "stderr",
     "output_type": "stream",
     "text": [
      "\n",
      "[notice] A new release of pip is available: 23.0.1 -> 24.0\n",
      "[notice] To update, run: python.exe -m pip install --upgrade pip\n"
     ]
    },
    {
     "name": "stdout",
     "output_type": "stream",
     "text": [
      "Requirement already satisfied: numpy in c:\\projects\\personal\\notebook-scripts\\venv\\lib\\site-packages (2.0.0)\n"
     ]
    },
    {
     "name": "stderr",
     "output_type": "stream",
     "text": [
      "\n",
      "[notice] A new release of pip is available: 23.0.1 -> 24.0\n",
      "[notice] To update, run: python.exe -m pip install --upgrade pip\n"
     ]
    },
    {
     "name": "stdout",
     "output_type": "stream",
     "text": [
      "Requirement already satisfied: faster-whisper in c:\\projects\\personal\\notebook-scripts\\venv\\lib\\site-packages (1.0.2)\n",
      "Requirement already satisfied: onnxruntime<2,>=1.14 in c:\\projects\\personal\\notebook-scripts\\venv\\lib\\site-packages (from faster-whisper) (1.18.0)\n",
      "Requirement already satisfied: tokenizers<1,>=0.13 in c:\\projects\\personal\\notebook-scripts\\venv\\lib\\site-packages (from faster-whisper) (0.19.1)\n",
      "Requirement already satisfied: huggingface-hub>=0.13 in c:\\projects\\personal\\notebook-scripts\\venv\\lib\\site-packages (from faster-whisper) (0.23.4)\n",
      "Requirement already satisfied: av<13,>=11.0 in c:\\projects\\personal\\notebook-scripts\\venv\\lib\\site-packages (from faster-whisper) (12.1.0)\n",
      "Requirement already satisfied: ctranslate2<5,>=4.0 in c:\\projects\\personal\\notebook-scripts\\venv\\lib\\site-packages (from faster-whisper) (4.3.1)\n",
      "Requirement already satisfied: pyyaml<7,>=5.3 in c:\\projects\\personal\\notebook-scripts\\venv\\lib\\site-packages (from ctranslate2<5,>=4.0->faster-whisper) (6.0.1)\n",
      "Requirement already satisfied: numpy in c:\\projects\\personal\\notebook-scripts\\venv\\lib\\site-packages (from ctranslate2<5,>=4.0->faster-whisper) (2.0.0)\n",
      "Requirement already satisfied: setuptools in c:\\projects\\personal\\notebook-scripts\\venv\\lib\\site-packages (from ctranslate2<5,>=4.0->faster-whisper) (65.5.0)\n",
      "Requirement already satisfied: tqdm>=4.42.1 in c:\\projects\\personal\\notebook-scripts\\venv\\lib\\site-packages (from huggingface-hub>=0.13->faster-whisper) (4.66.4)\n",
      "Requirement already satisfied: packaging>=20.9 in c:\\projects\\personal\\notebook-scripts\\venv\\lib\\site-packages (from huggingface-hub>=0.13->faster-whisper) (24.1)\n",
      "Requirement already satisfied: typing-extensions>=3.7.4.3 in c:\\projects\\personal\\notebook-scripts\\venv\\lib\\site-packages (from huggingface-hub>=0.13->faster-whisper) (4.12.2)\n",
      "Requirement already satisfied: filelock in c:\\projects\\personal\\notebook-scripts\\venv\\lib\\site-packages (from huggingface-hub>=0.13->faster-whisper) (3.15.3)\n",
      "Requirement already satisfied: requests in c:\\projects\\personal\\notebook-scripts\\venv\\lib\\site-packages (from huggingface-hub>=0.13->faster-whisper) (2.32.3)\n",
      "Requirement already satisfied: fsspec>=2023.5.0 in c:\\projects\\personal\\notebook-scripts\\venv\\lib\\site-packages (from huggingface-hub>=0.13->faster-whisper) (2024.6.0)\n",
      "Requirement already satisfied: protobuf in c:\\projects\\personal\\notebook-scripts\\venv\\lib\\site-packages (from onnxruntime<2,>=1.14->faster-whisper) (5.27.1)\n",
      "Requirement already satisfied: sympy in c:\\projects\\personal\\notebook-scripts\\venv\\lib\\site-packages (from onnxruntime<2,>=1.14->faster-whisper) (1.12.1)\n",
      "Requirement already satisfied: flatbuffers in c:\\projects\\personal\\notebook-scripts\\venv\\lib\\site-packages (from onnxruntime<2,>=1.14->faster-whisper) (24.3.25)\n",
      "Requirement already satisfied: coloredlogs in c:\\projects\\personal\\notebook-scripts\\venv\\lib\\site-packages (from onnxruntime<2,>=1.14->faster-whisper) (15.0.1)\n",
      "Requirement already satisfied: colorama in c:\\projects\\personal\\notebook-scripts\\venv\\lib\\site-packages (from tqdm>=4.42.1->huggingface-hub>=0.13->faster-whisper) (0.4.6)\n",
      "Requirement already satisfied: humanfriendly>=9.1 in c:\\projects\\personal\\notebook-scripts\\venv\\lib\\site-packages (from coloredlogs->onnxruntime<2,>=1.14->faster-whisper) (10.0)\n",
      "Requirement already satisfied: urllib3<3,>=1.21.1 in c:\\projects\\personal\\notebook-scripts\\venv\\lib\\site-packages (from requests->huggingface-hub>=0.13->faster-whisper) (2.2.2)\n",
      "Requirement already satisfied: charset-normalizer<4,>=2 in c:\\projects\\personal\\notebook-scripts\\venv\\lib\\site-packages (from requests->huggingface-hub>=0.13->faster-whisper) (3.3.2)\n",
      "Requirement already satisfied: idna<4,>=2.5 in c:\\projects\\personal\\notebook-scripts\\venv\\lib\\site-packages (from requests->huggingface-hub>=0.13->faster-whisper) (3.7)\n",
      "Requirement already satisfied: certifi>=2017.4.17 in c:\\projects\\personal\\notebook-scripts\\venv\\lib\\site-packages (from requests->huggingface-hub>=0.13->faster-whisper) (2024.6.2)\n",
      "Requirement already satisfied: mpmath<1.4.0,>=1.1.0 in c:\\projects\\personal\\notebook-scripts\\venv\\lib\\site-packages (from sympy->onnxruntime<2,>=1.14->faster-whisper) (1.3.0)\n",
      "Requirement already satisfied: pyreadline3 in c:\\projects\\personal\\notebook-scripts\\venv\\lib\\site-packages (from humanfriendly>=9.1->coloredlogs->onnxruntime<2,>=1.14->faster-whisper) (3.4.1)\n"
     ]
    },
    {
     "name": "stderr",
     "output_type": "stream",
     "text": [
      "\n",
      "[notice] A new release of pip is available: 23.0.1 -> 24.0\n",
      "[notice] To update, run: python.exe -m pip install --upgrade pip\n"
     ]
    },
    {
     "name": "stdout",
     "output_type": "stream",
     "text": [
      "Requirement already satisfied: keyboard in c:\\projects\\personal\\notebook-scripts\\venv\\lib\\site-packages (0.13.5)\n"
     ]
    },
    {
     "name": "stderr",
     "output_type": "stream",
     "text": [
      "\n",
      "[notice] A new release of pip is available: 23.0.1 -> 24.0\n",
      "[notice] To update, run: python.exe -m pip install --upgrade pip\n"
     ]
    }
   ],
   "source": [
    "!pip install pyaudio\n",
    "!pip install wave\n",
    "!pip install numpy\n",
    "!pip install faster-whisper\n",
    "!pip install keyboard"
   ]
  },
  {
   "cell_type": "code",
   "execution_count": 2,
   "id": "a0237ade",
   "metadata": {},
   "outputs": [
    {
     "name": "stderr",
     "output_type": "stream",
     "text": [
      "c:\\projects\\Personal\\notebook-scripts\\venv\\lib\\site-packages\\tqdm\\auto.py:21: TqdmWarning: IProgress not found. Please update jupyter and ipywidgets. See https://ipywidgets.readthedocs.io/en/stable/user_install.html\n",
      "  from .autonotebook import tqdm as notebook_tqdm\n"
     ]
    }
   ],
   "source": [
    "import pyaudio\n",
    "import wave\n",
    "import os\n",
    "import numpy as np\n",
    "from faster_whisper import WhisperModel\n",
    "import keyboard\n",
    "import threading"
   ]
  },
  {
   "cell_type": "code",
   "execution_count": 3,
   "id": "7f942725",
   "metadata": {},
   "outputs": [],
   "source": [
    "# Global variables\n",
    "is_recording = False\n",
    "frames = []"
   ]
  },
  {
   "cell_type": "code",
   "execution_count": 4,
   "id": "d2cb8938",
   "metadata": {},
   "outputs": [],
   "source": [
    "# Load the Faster Whisper model\n",
    "model_size = \"base\"\n",
    "\n",
    "# Run on GPU with FP16\n",
    "model = WhisperModel(model_size, device=\"cuda\", compute_type=\"float16\")"
   ]
  },
  {
   "cell_type": "code",
   "execution_count": 5,
   "id": "35a5c146",
   "metadata": {},
   "outputs": [],
   "source": [
    "def record_audio(filename, sample_rate=16000):\n",
    "    \"\"\"Record audio from the microphone and save it to a file.\"\"\"\n",
    "    global is_recording, frames\n",
    "    \n",
    "    CHUNK = 1024\n",
    "    FORMAT = pyaudio.paInt16\n",
    "    CHANNELS = 1\n",
    "\n",
    "    p = pyaudio.PyAudio()\n",
    "\n",
    "    stream = p.open(format=FORMAT,\n",
    "                    channels=CHANNELS,\n",
    "                    rate=sample_rate,\n",
    "                    input=True,\n",
    "                    frames_per_buffer=CHUNK)\n",
    "\n",
    "    print(\"Press SPACE to start recording...\")\n",
    "    keyboard.wait('space')\n",
    "    print(\"Recording... Press SPACE again to stop.\")\n",
    "    \n",
    "    is_recording = True\n",
    "    frames = []\n",
    "\n",
    "    while is_recording:\n",
    "        data = stream.read(CHUNK)\n",
    "        frames.append(data)\n",
    "\n",
    "    print(\"Recording finished.\")\n",
    "\n",
    "    stream.stop_stream()\n",
    "    stream.close()\n",
    "    p.terminate()\n",
    "\n",
    "    wf = wave.open(filename, 'wb')\n",
    "    wf.setnchannels(CHANNELS)\n",
    "    wf.setsampwidth(p.get_sample_size(FORMAT))\n",
    "    wf.setframerate(sample_rate)\n",
    "    wf.writeframes(b''.join(frames))\n",
    "    wf.close()"
   ]
  },
  {
   "cell_type": "code",
   "execution_count": 6,
   "id": "e1e1507d",
   "metadata": {},
   "outputs": [],
   "source": [
    "def transcribe_audio(filename):\n",
    "    \"\"\"Transcribe the audio file using Faster Whisper.\"\"\"\n",
    "    segments, info = model.transcribe(filename, beam_size=5)\n",
    "    return \" \".join([segment.text for segment in segments])"
   ]
  },
  {
   "cell_type": "code",
   "execution_count": 7,
   "id": "da6c6a98",
   "metadata": {},
   "outputs": [
    {
     "data": {
      "text/plain": [
       "<function keyboard.hook_key.<locals>.remove_()>"
      ]
     },
     "execution_count": 7,
     "metadata": {},
     "output_type": "execute_result"
    }
   ],
   "source": [
    "def on_press_space():\n",
    "    global is_recording\n",
    "    if is_recording:\n",
    "        is_recording = False\n",
    "        \n",
    "# Set up keyboard listener\n",
    "keyboard.on_press_key('space', lambda _: on_press_space())"
   ]
  },
  {
   "cell_type": "code",
   "execution_count": 8,
   "id": "ca2263b3",
   "metadata": {},
   "outputs": [
    {
     "name": "stdout",
     "output_type": "stream",
     "text": [
      "Press SPACE to start recording...\n",
      "Recording... Press SPACE again to stop.\n",
      "Recording finished.\n"
     ]
    }
   ],
   "source": [
    "# Record audio\n",
    "audio_filename = \"audio.wav\"\n",
    "record_thread = threading.Thread(target=record_audio, args=(audio_filename,))\n",
    "record_thread.start()\n",
    "record_thread.join()"
   ]
  },
  {
   "cell_type": "code",
   "execution_count": 9,
   "id": "48f0936d",
   "metadata": {},
   "outputs": [
    {
     "name": "stdout",
     "output_type": "stream",
     "text": [
      "Transcription:  Alright, so this is another test. It seems to work fine, but I want to see if it's correctly doing it.\n"
     ]
    }
   ],
   "source": [
    "# Transcribe the recorded audio\n",
    "transcription = transcribe_audio(audio_filename)\n",
    "print(\"Transcription:\", transcription)"
   ]
  },
  {
   "cell_type": "code",
   "execution_count": 10,
   "id": "a4c75fa8",
   "metadata": {},
   "outputs": [],
   "source": [
    "# Clean up\n",
    "keyboard.unhook_all()"
   ]
  },
  {
   "cell_type": "code",
   "execution_count": 11,
   "id": "0eb6eb9a",
   "metadata": {},
   "outputs": [],
   "source": [
    "# Check if the output file exists and delete it if it does\n",
    "if os.path.exists(audio_filename):\n",
    "    os.remove(audio_filename)"
   ]
  }
 ],
 "metadata": {
  "kernelspec": {
   "display_name": "Python 3 (ipykernel)",
   "language": "python",
   "name": "python3"
  },
  "language_info": {
   "codemirror_mode": {
    "name": "ipython",
    "version": 3
   },
   "file_extension": ".py",
   "mimetype": "text/x-python",
   "name": "python",
   "nbconvert_exporter": "python",
   "pygments_lexer": "ipython3",
   "version": "3.10.11"
  }
 },
 "nbformat": 4,
 "nbformat_minor": 5
}
