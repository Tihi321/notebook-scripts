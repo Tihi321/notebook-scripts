{
 "cells": [
  {
   "cell_type": "code",
   "execution_count": null,
   "id": "6b028559-d6e8-439b-9f25-46d222eeba01",
   "metadata": {},
   "outputs": [],
   "source": [
    "!pip install pyaudio\n",
    "!pip install wave\n",
    "!pip install numpy\n",
    "!pip install faster-whisper\n",
    "!pip install keyboard"
   ]
  },
  {
   "cell_type": "code",
   "execution_count": null,
   "id": "a0237ade",
   "metadata": {},
   "outputs": [],
   "source": [
    "import pyaudio\n",
    "import wave\n",
    "import os\n",
    "import numpy as np\n",
    "from faster_whisper import WhisperModel\n",
    "import keyboard\n",
    "import threading"
   ]
  },
  {
   "cell_type": "code",
   "execution_count": null,
   "id": "7f942725",
   "metadata": {},
   "outputs": [],
   "source": [
    "# Global variables\n",
    "is_recording = False\n",
    "frames = []"
   ]
  },
  {
   "cell_type": "code",
   "execution_count": null,
   "id": "d2cb8938",
   "metadata": {},
   "outputs": [],
   "source": [
    "# Load the Faster Whisper model\n",
    "model_size = \"base\"\n",
    "\n",
    "# Run on GPU with FP16\n",
    "model = WhisperModel(model_size, device=\"cuda\", compute_type=\"float16\")"
   ]
  },
  {
   "cell_type": "code",
   "execution_count": null,
   "id": "35a5c146",
   "metadata": {},
   "outputs": [],
   "source": [
    "def record_audio(filename, sample_rate=16000):\n",
    "    \"\"\"Record audio from the microphone and save it to a file.\"\"\"\n",
    "    global is_recording, frames\n",
    "    \n",
    "    CHUNK = 1024\n",
    "    FORMAT = pyaudio.paInt16\n",
    "    CHANNELS = 1\n",
    "\n",
    "    p = pyaudio.PyAudio()\n",
    "\n",
    "    stream = p.open(format=FORMAT,\n",
    "                    channels=CHANNELS,\n",
    "                    rate=sample_rate,\n",
    "                    input=True,\n",
    "                    frames_per_buffer=CHUNK)\n",
    "\n",
    "    print(\"Press SPACE to start recording...\")\n",
    "    keyboard.wait('space')\n",
    "    print(\"Recording... Press SPACE again to stop.\")\n",
    "    \n",
    "    is_recording = True\n",
    "    frames = []\n",
    "\n",
    "    while is_recording:\n",
    "        data = stream.read(CHUNK)\n",
    "        frames.append(data)\n",
    "\n",
    "    print(\"Recording finished.\")\n",
    "\n",
    "    stream.stop_stream()\n",
    "    stream.close()\n",
    "    p.terminate()\n",
    "\n",
    "    wf = wave.open(filename, 'wb')\n",
    "    wf.setnchannels(CHANNELS)\n",
    "    wf.setsampwidth(p.get_sample_size(FORMAT))\n",
    "    wf.setframerate(sample_rate)\n",
    "    wf.writeframes(b''.join(frames))\n",
    "    wf.close()"
   ]
  },
  {
   "cell_type": "code",
   "execution_count": null,
   "id": "e1e1507d",
   "metadata": {},
   "outputs": [],
   "source": [
    "def transcribe_audio(filename):\n",
    "    \"\"\"Transcribe the audio file using Faster Whisper.\"\"\"\n",
    "    segments, info = model.transcribe(filename, beam_size=5)\n",
    "    return \" \".join([segment.text for segment in segments])"
   ]
  },
  {
   "cell_type": "code",
   "execution_count": null,
   "id": "da6c6a98",
   "metadata": {},
   "outputs": [],
   "source": [
    "def on_press_space():\n",
    "    global is_recording\n",
    "    if is_recording:\n",
    "        is_recording = False\n",
    "        \n",
    "# Set up keyboard listener\n",
    "keyboard.on_press_key('space', lambda _: on_press_space())"
   ]
  },
  {
   "cell_type": "code",
   "execution_count": null,
   "id": "ca2263b3",
   "metadata": {},
   "outputs": [],
   "source": [
    "# Record audio\n",
    "audio_filename = \"audio.wav\"\n",
    "record_thread = threading.Thread(target=record_audio, args=(audio_filename,))\n",
    "record_thread.start()\n",
    "record_thread.join()"
   ]
  },
  {
   "cell_type": "code",
   "execution_count": null,
   "id": "48f0936d",
   "metadata": {},
   "outputs": [],
   "source": [
    "# Transcribe the recorded audio\n",
    "transcription = transcribe_audio(audio_filename)\n",
    "print(\"Transcription:\", transcription)"
   ]
  },
  {
   "cell_type": "code",
   "execution_count": null,
   "id": "a4c75fa8",
   "metadata": {},
   "outputs": [],
   "source": [
    "# Clean up\n",
    "keyboard.unhook_all()"
   ]
  },
  {
   "cell_type": "code",
   "execution_count": null,
   "id": "0eb6eb9a",
   "metadata": {},
   "outputs": [],
   "source": [
    "# Check if the output file exists and delete it if it does\n",
    "if os.path.exists(audio_filename):\n",
    "    os.remove(audio_filename)"
   ]
  }
 ],
 "metadata": {
  "kernelspec": {
   "display_name": "Python 3 (ipykernel)",
   "language": "python",
   "name": "python3"
  },
  "language_info": {
   "codemirror_mode": {
    "name": "ipython",
    "version": 3
   },
   "file_extension": ".py",
   "mimetype": "text/x-python",
   "name": "python",
   "nbconvert_exporter": "python",
   "pygments_lexer": "ipython3",
   "version": "3.10.11"
  }
 },
 "nbformat": 4,
 "nbformat_minor": 5
}
