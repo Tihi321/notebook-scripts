{
 "cells": [
  {
   "cell_type": "code",
   "execution_count": 1,
   "metadata": {},
   "outputs": [
    {
     "name": "stdout",
     "output_type": "stream",
     "text": [
      "Requirement already satisfied: IPython in c:\\projects\\personal\\notebook-scripts\\venv\\lib\\site-packages (8.25.0)\n",
      "Requirement already satisfied: typing-extensions>=4.6 in c:\\projects\\personal\\notebook-scripts\\venv\\lib\\site-packages (from IPython) (4.12.2)\n",
      "Requirement already satisfied: jedi>=0.16 in c:\\projects\\personal\\notebook-scripts\\venv\\lib\\site-packages (from IPython) (0.19.1)\n",
      "Requirement already satisfied: prompt-toolkit<3.1.0,>=3.0.41 in c:\\projects\\personal\\notebook-scripts\\venv\\lib\\site-packages (from IPython) (3.0.47)\n",
      "Requirement already satisfied: traitlets>=5.13.0 in c:\\projects\\personal\\notebook-scripts\\venv\\lib\\site-packages (from IPython) (5.14.3)\n",
      "Requirement already satisfied: colorama in c:\\projects\\personal\\notebook-scripts\\venv\\lib\\site-packages (from IPython) (0.4.6)\n",
      "Requirement already satisfied: decorator in c:\\projects\\personal\\notebook-scripts\\venv\\lib\\site-packages (from IPython) (5.1.1)\n",
      "Requirement already satisfied: matplotlib-inline in c:\\projects\\personal\\notebook-scripts\\venv\\lib\\site-packages (from IPython) (0.1.7)\n",
      "Requirement already satisfied: stack-data in c:\\projects\\personal\\notebook-scripts\\venv\\lib\\site-packages (from IPython) (0.6.3)\n",
      "Requirement already satisfied: exceptiongroup in c:\\projects\\personal\\notebook-scripts\\venv\\lib\\site-packages (from IPython) (1.2.1)\n",
      "Requirement already satisfied: pygments>=2.4.0 in c:\\projects\\personal\\notebook-scripts\\venv\\lib\\site-packages (from IPython) (2.18.0)\n",
      "Requirement already satisfied: parso<0.9.0,>=0.8.3 in c:\\projects\\personal\\notebook-scripts\\venv\\lib\\site-packages (from jedi>=0.16->IPython) (0.8.4)\n",
      "Requirement already satisfied: wcwidth in c:\\projects\\personal\\notebook-scripts\\venv\\lib\\site-packages (from prompt-toolkit<3.1.0,>=3.0.41->IPython) (0.2.13)\n",
      "Requirement already satisfied: executing>=1.2.0 in c:\\projects\\personal\\notebook-scripts\\venv\\lib\\site-packages (from stack-data->IPython) (2.0.1)\n",
      "Requirement already satisfied: pure-eval in c:\\projects\\personal\\notebook-scripts\\venv\\lib\\site-packages (from stack-data->IPython) (0.2.2)\n",
      "Requirement already satisfied: asttokens>=2.1.0 in c:\\projects\\personal\\notebook-scripts\\venv\\lib\\site-packages (from stack-data->IPython) (2.4.1)\n",
      "Requirement already satisfied: six>=1.12.0 in c:\\projects\\personal\\notebook-scripts\\venv\\lib\\site-packages (from asttokens>=2.1.0->stack-data->IPython) (1.16.0)\n"
     ]
    },
    {
     "name": "stderr",
     "output_type": "stream",
     "text": [
      "\n",
      "[notice] A new release of pip is available: 23.0.1 -> 24.0\n",
      "[notice] To update, run: python.exe -m pip install --upgrade pip\n"
     ]
    },
    {
     "name": "stdout",
     "output_type": "stream",
     "text": [
      "Requirement already satisfied: ollama in c:\\projects\\personal\\notebook-scripts\\venv\\lib\\site-packages (0.2.1)\n",
      "Requirement already satisfied: httpx<0.28.0,>=0.27.0 in c:\\projects\\personal\\notebook-scripts\\venv\\lib\\site-packages (from ollama) (0.27.0)\n",
      "Requirement already satisfied: httpcore==1.* in c:\\projects\\personal\\notebook-scripts\\venv\\lib\\site-packages (from httpx<0.28.0,>=0.27.0->ollama) (1.0.5)\n",
      "Requirement already satisfied: idna in c:\\projects\\personal\\notebook-scripts\\venv\\lib\\site-packages (from httpx<0.28.0,>=0.27.0->ollama) (3.7)\n",
      "Requirement already satisfied: sniffio in c:\\projects\\personal\\notebook-scripts\\venv\\lib\\site-packages (from httpx<0.28.0,>=0.27.0->ollama) (1.3.1)\n",
      "Requirement already satisfied: certifi in c:\\projects\\personal\\notebook-scripts\\venv\\lib\\site-packages (from httpx<0.28.0,>=0.27.0->ollama) (2024.6.2)\n",
      "Requirement already satisfied: anyio in c:\\projects\\personal\\notebook-scripts\\venv\\lib\\site-packages (from httpx<0.28.0,>=0.27.0->ollama) (4.4.0)\n",
      "Requirement already satisfied: h11<0.15,>=0.13 in c:\\projects\\personal\\notebook-scripts\\venv\\lib\\site-packages (from httpcore==1.*->httpx<0.28.0,>=0.27.0->ollama) (0.14.0)\n",
      "Requirement already satisfied: typing-extensions>=4.1 in c:\\projects\\personal\\notebook-scripts\\venv\\lib\\site-packages (from anyio->httpx<0.28.0,>=0.27.0->ollama) (4.12.2)\n",
      "Requirement already satisfied: exceptiongroup>=1.0.2 in c:\\projects\\personal\\notebook-scripts\\venv\\lib\\site-packages (from anyio->httpx<0.28.0,>=0.27.0->ollama) (1.2.1)\n"
     ]
    },
    {
     "name": "stderr",
     "output_type": "stream",
     "text": [
      "\n",
      "[notice] A new release of pip is available: 23.0.1 -> 24.0\n",
      "[notice] To update, run: python.exe -m pip install --upgrade pip\n"
     ]
    }
   ],
   "source": [
    "!pip install IPython\n",
    "!pip install ollama"
   ]
  },
  {
   "cell_type": "code",
   "execution_count": 2,
   "id": "d6466dce",
   "metadata": {},
   "outputs": [],
   "source": [
    "import ollama\n",
    "from IPython.display import clear_output\n",
    "import time"
   ]
  },
  {
   "cell_type": "code",
   "execution_count": 3,
   "id": "ebffba0b",
   "metadata": {},
   "outputs": [],
   "source": [
    "def chat_with_ollama(model_name=\"qwen2:7b\"):\n",
    "    history = []\n",
    "    \n",
    "    while True:\n",
    "        # Get user input\n",
    "        user_input = input(\"You: \")\n",
    "        if user_input.lower() in ['exit', 'quit']:\n",
    "            break\n",
    "        \n",
    "        # Add user message to history\n",
    "        history.append({\"role\": \"user\", \"content\": user_input})\n",
    "        \n",
    "        # Generate response from Ollama with error handling\n",
    "        try:\n",
    "            print(\"Waiting for Ollama response...\")\n",
    "            response = ollama.chat(model=model_name, messages=history)\n",
    "            assistant_response = response['message']['content']\n",
    "        except Exception as e:\n",
    "            print(f\"Error: {e}\")\n",
    "            print(\"Retrying in 5 seconds...\")\n",
    "            time.sleep(5)\n",
    "            continue\n",
    "        \n",
    "        # Add assistant's response to history\n",
    "        history.append({\"role\": \"assistant\", \"content\": assistant_response})\n",
    "        \n",
    "        # Print the assistant's response\n",
    "        print(f\"Assistant: {assistant_response}\")\n",
    "        print()  # Add a blank line for readability\n",
    "        \n",
    "        # Clear output to keep the notebook clean\n",
    "        clear_output(wait=True)\n",
    "        \n",
    "        # Print the entire conversation history\n",
    "        for msg in history:\n",
    "            if msg['role'] == 'user':\n",
    "                print(f\"You: {msg['content']}\")\n",
    "            else:\n",
    "                print(f\"Assistant: {msg['content']}\")\n",
    "        print()  # Add a blank line for readability"
   ]
  },
  {
   "cell_type": "code",
   "execution_count": 4,
   "id": "49347544",
   "metadata": {},
   "outputs": [
    {
     "name": "stdout",
     "output_type": "stream",
     "text": [
      "Starting conversation with Ollama...\n",
      "Waiting for Ollama response...\n",
      "Assistant: Hello! How can I assist you today?\n",
      "\n",
      "You: Hello\n",
      "Assistant: Hello! How can I assist you today?\n",
      "\n",
      "Waiting for Ollama response...\n",
      "Assistant: Hello! How can I assist you today?\n",
      "\n",
      "You: Hello\n",
      "Assistant: Hello! How can I assist you today?\n",
      "You: hello\n",
      "Assistant: Hello! How can I assist you today?\n",
      "\n",
      "Waiting for Ollama response...\n",
      "Assistant: Creating a computer game is quite an exciting project! The process depends on several factors such as the genre of the game, your programming skills, and what tools you want to use. Here's a basic guide that might help you get started:\n",
      "\n",
      "1. **Define Your Game**: Decide what type of game you want to create. Do you prefer games like adventure, strategy, puzzle, or action? What's the theme, story, gameplay mechanics, etc.\n",
      "\n",
      "2. **Choose a Platform and Tools**:\n",
      "   - **Game Engine**: You'll need software like Unity (popular for both 2D and 3D), Unreal Engine, or Godot depending on your game needs.\n",
      "   - **Programming Language**: While you can use the language that comes with your game engine (like C# in Unity), it's also possible to use other languages like Python, Java, or C++.\n",
      "\n",
      "3. **Create a Plan**:\n",
      "   - Outline your game mechanics.\n",
      "   - Design your levels or scenarios.\n",
      "   - Sketch character designs and create basic animations.\n",
      "   \n",
      "4. **Development**: Start coding your game based on the plan you've created. \n",
      "   - If you're using Unity or Unreal Engine, they have tutorials that will guide you through the process of creating assets like models, textures, and UI elements.\n",
      "   - Programming logic would involve implementing user input handling, AI behaviors (for games involving NPCs), collision detection, etc.\n",
      "\n",
      "5. **Testing**: Playtest your game frequently to identify bugs or areas for improvement in gameplay.\n",
      "\n",
      "6. **Polish and Refine**:\n",
      "   - Fix any issues you find during testing.\n",
      "   - Add sounds, music, and voice-overs if needed.\n",
      "   - Polish UI elements and user experience aspects.\n",
      "\n",
      "7. **Deployment**:\n",
      "   - Once the game is ready, compile it for the platforms you're targeting (like Windows, macOS, Android, iOS).\n",
      "   - Consider distributing your game through online stores like Steam, Google Play Store, or Apple App Store if it's a downloadable application.\n",
      "\n",
      "8. **Marketing and Promotion**:\n",
      "   - Utilize social media, gaming forums, and websites to promote your game.\n",
      "   - Create engaging trailers, screenshots, and other content that showcases the best aspects of your game.\n",
      "\n",
      "Remember, making games is an iterative process. You'll probably need to iterate on these steps several times as you learn more about game development and refine your vision for the project. If you're a beginner, there are many online tutorials and resources available to help guide you through each step. Good luck with your game-making journey!\n",
      "\n",
      "You: Hello\n",
      "Assistant: Hello! How can I assist you today?\n",
      "You: hello\n",
      "Assistant: Hello! How can I assist you today?\n",
      "You: I would like ot make computer game, can you help\n",
      "Assistant: Creating a computer game is quite an exciting project! The process depends on several factors such as the genre of the game, your programming skills, and what tools you want to use. Here's a basic guide that might help you get started:\n",
      "\n",
      "1. **Define Your Game**: Decide what type of game you want to create. Do you prefer games like adventure, strategy, puzzle, or action? What's the theme, story, gameplay mechanics, etc.\n",
      "\n",
      "2. **Choose a Platform and Tools**:\n",
      "   - **Game Engine**: You'll need software like Unity (popular for both 2D and 3D), Unreal Engine, or Godot depending on your game needs.\n",
      "   - **Programming Language**: While you can use the language that comes with your game engine (like C# in Unity), it's also possible to use other languages like Python, Java, or C++.\n",
      "\n",
      "3. **Create a Plan**:\n",
      "   - Outline your game mechanics.\n",
      "   - Design your levels or scenarios.\n",
      "   - Sketch character designs and create basic animations.\n",
      "   \n",
      "4. **Development**: Start coding your game based on the plan you've created. \n",
      "   - If you're using Unity or Unreal Engine, they have tutorials that will guide you through the process of creating assets like models, textures, and UI elements.\n",
      "   - Programming logic would involve implementing user input handling, AI behaviors (for games involving NPCs), collision detection, etc.\n",
      "\n",
      "5. **Testing**: Playtest your game frequently to identify bugs or areas for improvement in gameplay.\n",
      "\n",
      "6. **Polish and Refine**:\n",
      "   - Fix any issues you find during testing.\n",
      "   - Add sounds, music, and voice-overs if needed.\n",
      "   - Polish UI elements and user experience aspects.\n",
      "\n",
      "7. **Deployment**:\n",
      "   - Once the game is ready, compile it for the platforms you're targeting (like Windows, macOS, Android, iOS).\n",
      "   - Consider distributing your game through online stores like Steam, Google Play Store, or Apple App Store if it's a downloadable application.\n",
      "\n",
      "8. **Marketing and Promotion**:\n",
      "   - Utilize social media, gaming forums, and websites to promote your game.\n",
      "   - Create engaging trailers, screenshots, and other content that showcases the best aspects of your game.\n",
      "\n",
      "Remember, making games is an iterative process. You'll probably need to iterate on these steps several times as you learn more about game development and refine your vision for the project. If you're a beginner, there are many online tutorials and resources available to help guide you through each step. Good luck with your game-making journey!\n",
      "\n"
     ]
    }
   ],
   "source": [
    "print(\"Starting conversation with Ollama...\")\n",
    "chat_with_ollama()"
   ]
  }
 ],
 "metadata": {
  "kernelspec": {
   "display_name": "venv",
   "language": "python",
   "name": "python3"
  },
  "language_info": {
   "codemirror_mode": {
    "name": "ipython",
    "version": 3
   },
   "file_extension": ".py",
   "mimetype": "text/x-python",
   "name": "python",
   "nbconvert_exporter": "python",
   "pygments_lexer": "ipython3",
   "version": "3.10.11"
  }
 },
 "nbformat": 4,
 "nbformat_minor": 5
}
